{
 "cells": [
  {
   "cell_type": "code",
   "execution_count": 4,
   "metadata": {},
   "outputs": [],
   "source": [
    "import csv\n",
    "\n",
    "f = open('MTURK-771.txt', 'w')\n",
    "\n",
    "# 開啟 CSV 檔案\n",
    "with open('MTURK-771.csv', newline='') as csvfile:\n",
    "\n",
    "    # 讀取 CSV 檔案內容\n",
    "    rows = csv.reader(csvfile)\n",
    "\n",
    "    # 以迴圈輸出每一列\n",
    "    for row in rows:\n",
    "        f.write(row[0] + ' ' + row[1] + ' ' + row[2] + '\\n')\n",
    "\n",
    "f.close()"
   ]
  },
  {
   "cell_type": "code",
   "execution_count": 9,
   "metadata": {},
   "outputs": [],
   "source": [
    "f_read = open('wordsim_similarity_goldstandard.txt')\n",
    "f_write = open('framenet_syn_new.txt','w')\n",
    "for line in f_read.readlines():\n",
    "    count = 0\n",
    "    for word in line.split(\"\\t\"):\n",
    "        if count != 0:\n",
    "            f_write.write(' ')\n",
    "        f_write.write(word)\n",
    "        count += 1\n",
    "f_read.close()\n",
    "f_write.close()"
   ]
  },
  {
   "cell_type": "code",
   "execution_count": 12,
   "metadata": {},
   "outputs": [],
   "source": [
    "words = [[0 for i in range(5)] for j in range(3500)]\n",
    "row = 0\n",
    "col = 0\n",
    "f_read = open('wordsim353_agreed.txt')\n",
    "for line in f_read.readlines():\n",
    "    for word in line.split( ):\n",
    "        words[row][col] = word\n",
    "        col += 1\n",
    "    row += 1\n",
    "    col = 0\n",
    "f_read.close()\n",
    "        \n",
    "f_write = open('WS_353_ant.txt','w')\n",
    "for i in range(352):\n",
    "    if words[i][0] == 'a':\n",
    "        f_write.write(str(words[i][1]) + ' ' + str(words[i][2]) + ' -' + str(words[i][3]) + '\\n')\n",
    "    else:\n",
    "        f_write.write(str(words[i][1]) + ' ' + str(words[i][2]) + ' ' + str(words[i][3]) + '\\n')\n",
    "f_write.close()"
   ]
  },
  {
   "cell_type": "code",
   "execution_count": null,
   "metadata": {},
   "outputs": [],
   "source": []
  }
 ],
 "metadata": {
  "kernelspec": {
   "display_name": "Python 3",
   "language": "python",
   "name": "python3"
  },
  "language_info": {
   "codemirror_mode": {
    "name": "ipython",
    "version": 3
   },
   "file_extension": ".py",
   "mimetype": "text/x-python",
   "name": "python",
   "nbconvert_exporter": "python",
   "pygments_lexer": "ipython3",
   "version": "3.6.9"
  }
 },
 "nbformat": 4,
 "nbformat_minor": 4
}
