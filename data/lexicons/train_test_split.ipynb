{
 "cells": [
  {
   "cell_type": "code",
   "execution_count": 64,
   "metadata": {},
   "outputs": [
    {
     "name": "stderr",
     "output_type": "stream",
     "text": [
      "100%|██████████| 2155/2155 [00:00<00:00, 40343.89it/s]\n"
     ]
    }
   ],
   "source": [
    "from tqdm import tqdm\n",
    "\n",
    "f_read = open('framenet_syn.txt')\n",
    "f_write = open('framenet_syn_new.txt','w')\n",
    "for line in tqdm(f_read.readlines()):\n",
    "    syn_count = 0\n",
    "    ant_count = 0\n",
    "    syn = []\n",
    "    ant = []\n",
    "    output = []\n",
    "    bool = 0\n",
    "    count = 0\n",
    "    for words in line.split(\"\\t\"):\n",
    "        for word in words.split():\n",
    "            if bool == 0:\n",
    "                syn_count += 1\n",
    "                syn.append(word)\n",
    "            else:\n",
    "                ant_count += 1\n",
    "                ant.append(word)\n",
    "        bool = 1\n",
    "    if syn_count + ant_count <= 10:\n",
    "        output = syn + ['\\t'] + ant\n",
    "    else:\n",
    "        if syn_count >= 5 and ant_count >= 5:\n",
    "            output = syn[:5] + ['\\t'] + ant[:5]\n",
    "        elif syn_count >= 5 and ant_count < 5:\n",
    "            output = syn[:(10-ant_count)] + ['\\t'] + ant[:ant_count]\n",
    "        elif syn_count < 5 and ant_count >= 5:\n",
    "            output = syn[:syn_count] + ['\\t'] + ant[:(10-syn_count)]  \n",
    "    for word in output:\n",
    "        if count != 0 and word != '\\t':\n",
    "            f_write.write(' ')\n",
    "        f_write.write(word)\n",
    "        count += 1\n",
    "        if word == '\\t':\n",
    "            count = 0\n",
    "    f_write.write('\\n')\n",
    "f_read.close()\n",
    "f_write.close()"
   ]
  },
  {
   "cell_type": "code",
   "execution_count": 31,
   "metadata": {},
   "outputs": [
    {
     "name": "stdout",
     "output_type": "stream",
     "text": [
      "crawling crawl fawn\t\n",
      "\n",
      "flaw weaknesses wrongs error bugs faults false shortcomings mistakes failures defects errors deficiencies blunders flaws irregularities defect failings mistaken wrong mistake\tsuccesses\n",
      "\n"
     ]
    }
   ],
   "source": [
    "path = 'untitled.txt'\n",
    "with open(path) as f:\n",
    "    lines = f.readlines()\n",
    "    for line in lines:\n",
    "        print(line)"
   ]
  },
  {
   "cell_type": "code",
   "execution_count": 31,
   "metadata": {},
   "outputs": [
    {
     "name": "stderr",
     "output_type": "stream",
     "text": [
      "100%|██████████| 21764/21764 [00:00<00:00, 61808.11it/s]\n"
     ]
    }
   ],
   "source": [
    "from tqdm import tqdm\n",
    "\n",
    "f_read = open('wordnet_syn_ant.txt')\n",
    "f_write_train = open('wordnet_syn_ant_train.txt','w')\n",
    "f_write_test = open('wordnet_syn_ant_test.txt','w')\n",
    "for line in tqdm(f_read.readlines()):\n",
    "    syn_count = 0\n",
    "    ant_count = 0\n",
    "    syn_train_count = 0\n",
    "    ant_train_count = 0\n",
    "    head = []\n",
    "    syn = []\n",
    "    ant = []\n",
    "    output_train = []\n",
    "    output_test = []\n",
    "    synant_bool = 0\n",
    "    head_bool = 1\n",
    "    count = 0\n",
    "    \n",
    "    for words in line.split(\"\\t\"):\n",
    "        for word in words.split():\n",
    "            if head_bool == 1:\n",
    "                head.append(word)\n",
    "                head_bool = 0\n",
    "            else:\n",
    "                if synant_bool == 0:\n",
    "                    syn_count += 1\n",
    "                    syn.append(word)\n",
    "                else:\n",
    "                    ant_count += 1\n",
    "                    ant.append(word)\n",
    "        synant_bool = 1\n",
    "    \n",
    "    if (syn_count * 3) / 10 < 1:\n",
    "        if (ant_count * 3) / 10 < 1:\n",
    "            output_train = head + syn + ['\\t'] + ant\n",
    "        else:\n",
    "            ant_train_count = ant_count - (ant_count * 3) // 10\n",
    "            output_train = head + syn + ['\\t'] + ant[:ant_train_count]\n",
    "            output_test = head + ['\\t'] + ant[ant_train_count:]\n",
    "    else:\n",
    "        syn_train_count = syn_count - (syn_count * 3) // 10\n",
    "        if (ant_count * 3) / 10 < 1:\n",
    "            output_train = head + syn[:syn_train_count] + ['\\t'] + ant\n",
    "            output_test = head + syn[syn_train_count:] + ['\\t']\n",
    "        else:\n",
    "            ant_train_count = ant_count - (ant_count * 3) // 10\n",
    "            output_train = head + syn[:syn_train_count] + ['\\t'] + ant[:ant_train_count]\n",
    "            output_test = head + syn[syn_train_count:] + ['\\t'] + ant[ant_train_count:]\n",
    "    \n",
    "    for word in output_train:\n",
    "        if count != 0 and word != '\\t':\n",
    "            f_write_train.write(' ')\n",
    "        f_write_train.write(word)\n",
    "        count += 1\n",
    "        if word == '\\t':\n",
    "            count = 0\n",
    "    f_write_train.write('\\n')\n",
    "    \n",
    "    count = 0\n",
    "    if output_test:\n",
    "        for word in output_test:\n",
    "            if count != 0 and word != '\\t':\n",
    "                f_write_test.write(' ')\n",
    "            f_write_test.write(word)\n",
    "            count += 1\n",
    "            if word == '\\t':\n",
    "                count = 0\n",
    "        f_write_test.write('\\n')\n",
    "    \n",
    "f_read.close()\n",
    "f_write_train.close()\n",
    "f_write_test.close()"
   ]
  },
  {
   "cell_type": "code",
   "execution_count": 14,
   "metadata": {},
   "outputs": [
    {
     "name": "stderr",
     "output_type": "stream",
     "text": [
      "100%|██████████| 1779/1779 [00:00<00:00, 28681.51it/s]\n",
      "100%|██████████| 70209/70209 [00:04<00:00, 14708.28it/s]\n",
      "100%|██████████| 70293/70293 [00:05<00:00, 13930.05it/s]\n",
      "100%|██████████| 70830/70830 [00:05<00:00, 12211.23it/s]\n",
      "100%|██████████| 63466/63466 [00:01<00:00, 34812.26it/s]\n",
      "100%|██████████| 63563/63563 [00:01<00:00, 34958.15it/s]\n",
      "100%|██████████| 65172/65172 [00:02<00:00, 24263.83it/s]\n",
      "100%|██████████| 10076/10076 [00:00<00:00, 46975.15it/s]\n",
      "100%|██████████| 10076/10076 [00:00<00:00, 45464.61it/s]\n"
     ]
    }
   ],
   "source": [
    "from tqdm import tqdm\n",
    "\n",
    "test_files = ['framenet_syn', 'lexicon_all_syn', 'lexicon_all_syn_ant', 'lexicon_all_syn_ant_more', 'PPDB_syn', 'PPDB_syn_ant', 'PPDB_syn_ant_more', 'wordnet_syn', 'wordnet_syn_ant']\n",
    "for i in test_files:\n",
    "    f_read_train = open('{}_train.txt'.format(i))\n",
    "    f_read_test = open('{}_test.txt'.format(i))\n",
    "    f_write = open('{}_test_pair.txt'.format(i), 'w')\n",
    "    \n",
    "    for line in tqdm(f_read_test.readlines()):\n",
    "        head = []\n",
    "        syn = []\n",
    "        ant = []\n",
    "        synant_bool = 0\n",
    "        head_bool = 1\n",
    "        \n",
    "        for words in line.split(\"\\t\"):\n",
    "            for word in words.split():\n",
    "                if head_bool == 1:\n",
    "                    head.append(word)\n",
    "                    head_bool = 0\n",
    "                else:\n",
    "                    if synant_bool == 0:\n",
    "                        syn.append(word)\n",
    "                    else:\n",
    "                        ant.append(word)\n",
    "            synant_bool = 1\n",
    "        \n",
    "        if syn or ant:\n",
    "            for train_line in f_read_train.readlines():\n",
    "                train_seq = []\n",
    "\n",
    "                for train_words in train_line.split(\"\\t\"):\n",
    "                    for train_word in train_words.split():\n",
    "                        train_seq.append(train_word)\n",
    "\n",
    "                if head[0] in train_seq:\n",
    "                    for i in syn:\n",
    "                        if i in train_seq:\n",
    "                            syn.remove(i)\n",
    "                    for i in ant:\n",
    "                        if i in train_seq:\n",
    "                            ant.remove(i)\n",
    "                            \n",
    "        for word in syn:\n",
    "            f_write.write(str(head[0]) + ' ' + str(word) + ' syn\\n')\n",
    "        for word in ant:\n",
    "            f_write.write(str(head[0]) + ' ' + str(word) + ' ant\\n')"
   ]
  },
  {
   "cell_type": "code",
   "execution_count": 36,
   "metadata": {},
   "outputs": [
    {
     "name": "stderr",
     "output_type": "stream",
     "text": [
      "100%|██████████| 1779/1779 [00:00<00:00, 41904.65it/s]\n",
      "100%|██████████| 70209/70209 [00:02<00:00, 23457.82it/s]\n",
      "100%|██████████| 70293/70293 [00:03<00:00, 22572.87it/s]\n",
      "100%|██████████| 70830/70830 [00:03<00:00, 18626.27it/s]\n",
      "100%|██████████| 63466/63466 [00:00<00:00, 70482.29it/s]\n",
      "100%|██████████| 63563/63563 [00:00<00:00, 70918.40it/s]\n",
      "100%|██████████| 65172/65172 [00:01<00:00, 45668.35it/s]\n",
      "100%|██████████| 10076/10076 [00:00<00:00, 137216.33it/s]\n",
      "100%|██████████| 10076/10076 [00:00<00:00, 138075.74it/s]\n"
     ]
    }
   ],
   "source": [
    "from tqdm import tqdm\n",
    "\n",
    "test_files = ['framenet_syn_test', 'lexicon_all_syn_test', 'lexicon_all_syn_ant_test', 'lexicon_all_syn_ant_more_test', 'PPDB_syn_test', 'PPDB_syn_ant_test', 'PPDB_syn_ant_more_test', 'wordnet_syn_test', 'wordnet_syn_ant_test']\n",
    "for i in test_files:\n",
    "    f_read = open('{}.txt'.format(i))\n",
    "    f_write = open('{}_pair.txt'.format(i), 'w')\n",
    "    for line in tqdm(f_read.readlines()):\n",
    "        head = []\n",
    "        syn = []\n",
    "        ant = []\n",
    "        synant_bool = 0\n",
    "        head_bool = 1\n",
    "        \n",
    "        for words in line.split(\"\\t\"):\n",
    "            for word in words.split():\n",
    "                if head_bool == 1:\n",
    "                    head.append(word)\n",
    "                    head_bool = 0\n",
    "                else:\n",
    "                    if synant_bool == 0:\n",
    "                        syn.append(word)\n",
    "                    else:\n",
    "                        ant.append(word)\n",
    "            synant_bool = 1\n",
    "            \n",
    "        for word in syn:\n",
    "            f_write.write(str(head[0]) + ' ' + str(word) + ' syn\\n')\n",
    "        for word in ant:\n",
    "            f_write.write(str(head[0]) + ' ' + str(word) + ' ant\\n')\n"
   ]
  },
  {
   "cell_type": "code",
   "execution_count": null,
   "metadata": {},
   "outputs": [],
   "source": []
  }
 ],
 "metadata": {
  "kernelspec": {
   "display_name": "Python 3",
   "language": "python",
   "name": "python3"
  },
  "language_info": {
   "codemirror_mode": {
    "name": "ipython",
    "version": 3
   },
   "file_extension": ".py",
   "mimetype": "text/x-python",
   "name": "python",
   "nbconvert_exporter": "python",
   "pygments_lexer": "ipython3",
   "version": "3.6.9"
  }
 },
 "nbformat": 4,
 "nbformat_minor": 4
}
