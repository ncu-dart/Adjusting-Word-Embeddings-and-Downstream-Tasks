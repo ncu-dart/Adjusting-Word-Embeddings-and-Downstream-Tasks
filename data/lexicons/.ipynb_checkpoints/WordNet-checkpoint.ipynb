{
 "cells": [
  {
   "cell_type": "code",
   "execution_count": 1,
   "metadata": {},
   "outputs": [],
   "source": [
    "import nltk \n",
    "from nltk.corpus import wordnet\n",
    "import codecs"
   ]
  },
  {
   "cell_type": "code",
   "execution_count": 2,
   "metadata": {},
   "outputs": [],
   "source": [
    "with open('../Embeddings/intersection.vocab', 'r', encoding='utf-8') as f:\n",
    "    vocab = set(f.readline().strip().lower().split())"
   ]
  },
  {
   "cell_type": "code",
   "execution_count": 3,
   "metadata": {},
   "outputs": [],
   "source": [
    "for word in vocab:\n",
    "    synonyms = []\n",
    "    antonyms = []\n",
    "    for syn in wordnet.synsets(word): \n",
    "        for l in syn.lemmas():\n",
    "            s = l.name()\n",
    "            if s in vocab:\n",
    "                synonyms.append(s) \n",
    "            if l.antonyms():\n",
    "                a = l.antonyms()[0].name()\n",
    "                if a in vocab:\n",
    "                    antonyms.append(a)"
   ]
  },
  {
   "cell_type": "code",
   "execution_count": 4,
   "metadata": {},
   "outputs": [],
   "source": [
    "with open('./wordnet_syn_ant.txt', 'w', encoding='utf-8') as f:\n",
    "    for word in vocab:\n",
    "        synonyms = []\n",
    "        antonyms = []\n",
    "        for syn in wordnet.synsets(word): \n",
    "            for l in syn.lemmas():\n",
    "                s = l.name()\n",
    "                if s in vocab:\n",
    "                    synonyms.append(s)\n",
    "                if l.antonyms():\n",
    "                    a = l.antonyms()[0].name()\n",
    "                    if a in vocab:\n",
    "                        antonyms.append(a)\n",
    "                        \n",
    "        if len(set(synonyms))>1:\n",
    "            f.write(' '.join(list(set(synonyms))) + '\\t' + ' '.join(list(set(antonyms))) + '\\n')"
   ]
  },
  {
   "cell_type": "code",
   "execution_count": 5,
   "metadata": {},
   "outputs": [],
   "source": [
    "with open('./wordnet_syn.txt', 'w', encoding='utf-8') as f:\n",
    "    for word in vocab:\n",
    "        synonyms = []\n",
    "        antonyms = []\n",
    "        for syn in wordnet.synsets(word): \n",
    "            for l in syn.lemmas():\n",
    "                s = l.name()\n",
    "                if s in vocab:\n",
    "                    synonyms.append(s) \n",
    "                if l.antonyms():\n",
    "                    a = l.antonyms()[0].name()\n",
    "                    if a in vocab:\n",
    "                        antonyms.append(a)\n",
    "                        \n",
    "        if len(set(synonyms))>1:\n",
    "            f.write(' '.join(list(set(synonyms))) + '\\t' + ' '.join([]) + '\\n')"
   ]
  },
  {
   "cell_type": "code",
   "execution_count": null,
   "metadata": {},
   "outputs": [],
   "source": []
  }
 ],
 "metadata": {
  "kernelspec": {
   "display_name": "Python 3",
   "language": "python",
   "name": "python3"
  },
  "language_info": {
   "codemirror_mode": {
    "name": "ipython",
    "version": 3
   },
   "file_extension": ".py",
   "mimetype": "text/x-python",
   "name": "python",
   "nbconvert_exporter": "python",
   "pygments_lexer": "ipython3",
   "version": "3.6.9"
  }
 },
 "nbformat": 4,
 "nbformat_minor": 2
}
