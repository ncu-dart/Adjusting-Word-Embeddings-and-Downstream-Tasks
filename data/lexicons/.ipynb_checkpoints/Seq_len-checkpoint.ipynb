{
 "cells": [
  {
   "cell_type": "code",
   "execution_count": 1,
   "metadata": {},
   "outputs": [],
   "source": [
    "import pandas as pd"
   ]
  },
  {
   "cell_type": "code",
   "execution_count": 2,
   "metadata": {},
   "outputs": [],
   "source": [
    "df = pd.DataFrame()"
   ]
  },
  {
   "cell_type": "code",
   "execution_count": 3,
   "metadata": {},
   "outputs": [],
   "source": [
    "x = open('./PPDB_syn_1.txt', 'r', encoding='utf-8').readlines()\n",
    "df['PPDB_syn_1'] = [len(y.strip().split()) for y in x]"
   ]
  },
  {
   "cell_type": "code",
   "execution_count": 4,
   "metadata": {},
   "outputs": [],
   "source": [
    "x = open('./PPDB_syn_2.txt', 'r', encoding='utf-8').readlines()\n",
    "df['PPDB_syn_2'] = [len(y.strip().split()) for y in x]"
   ]
  },
  {
   "cell_type": "code",
   "execution_count": 5,
   "metadata": {},
   "outputs": [],
   "source": [
    "x = open('./PPDB_syn_ant_2.txt', 'r', encoding='utf-8').readlines()\n",
    "df['PPDB_syn_ant_2'] = [len(y.strip().split()) for y in x]"
   ]
  },
  {
   "cell_type": "code",
   "execution_count": 6,
   "metadata": {},
   "outputs": [],
   "source": [
    "x = open('./PPDB_syn_ant_3.txt', 'r', encoding='utf-8').readlines()\n",
    "df['PPDB_syn_ant_3'] = [len(y.strip().split()) for y in x]"
   ]
  },
  {
   "cell_type": "code",
   "execution_count": 7,
   "metadata": {},
   "outputs": [],
   "source": [
    "df1 = pd.DataFrame()"
   ]
  },
  {
   "cell_type": "code",
   "execution_count": 8,
   "metadata": {
    "scrolled": true
   },
   "outputs": [],
   "source": [
    "x = open('./wordnet_syn.txt', 'r', encoding='utf-8').readlines()\n",
    "df1['wordnet_syn'] = [len(y.strip().split()) for y in x]"
   ]
  },
  {
   "cell_type": "code",
   "execution_count": 9,
   "metadata": {},
   "outputs": [],
   "source": [
    "x = open('./wordnet_syn_ant.txt', 'r', encoding='utf-8').readlines()\n",
    "df1['wordnet_syn_ant'] = [len(y.strip().split()) for y in x]"
   ]
  },
  {
   "cell_type": "code",
   "execution_count": 10,
   "metadata": {},
   "outputs": [],
   "source": [
    "df2 = pd.DataFrame()"
   ]
  },
  {
   "cell_type": "code",
   "execution_count": 11,
   "metadata": {},
   "outputs": [],
   "source": [
    "x = open('./framenet_syn.txt', 'r', encoding='utf-8').readlines()\n",
    "df2['framenet_syn'] = [len(y.strip().split()) for y in x]"
   ]
  },
  {
   "cell_type": "code",
   "execution_count": 12,
   "metadata": {},
   "outputs": [],
   "source": [
    "df3 = pd.DataFrame()"
   ]
  },
  {
   "cell_type": "code",
   "execution_count": 13,
   "metadata": {},
   "outputs": [],
   "source": [
    "x = open('./lexicon_all_syn.txt', 'r', encoding='utf-8').readlines()\n",
    "df3['lexicon_all_syn'] = [len(y.strip().split()) for y in x]"
   ]
  },
  {
   "cell_type": "code",
   "execution_count": 14,
   "metadata": {},
   "outputs": [],
   "source": [
    "x = open('./lexicon_all_syn_ant.txt', 'r', encoding='utf-8').readlines()\n",
    "df3['lexicon_all_syn_ant'] = [len(y.strip().split()) for y in x]"
   ]
  },
  {
   "cell_type": "code",
   "execution_count": 15,
   "metadata": {},
   "outputs": [],
   "source": [
    "df4 = pd.DataFrame()"
   ]
  },
  {
   "cell_type": "code",
   "execution_count": 16,
   "metadata": {},
   "outputs": [],
   "source": [
    "x = open('./lexicon_all_syn_ant_more.txt', 'r', encoding='utf-8').readlines()\n",
    "df4['lexicon_all_syn_ant_more'] = [len(y.strip().split()) for y in x]"
   ]
  },
  {
   "cell_type": "code",
   "execution_count": null,
   "metadata": {},
   "outputs": [],
   "source": []
  },
  {
   "cell_type": "code",
   "execution_count": null,
   "metadata": {},
   "outputs": [],
   "source": []
  },
  {
   "cell_type": "code",
   "execution_count": null,
   "metadata": {},
   "outputs": [],
   "source": []
  },
  {
   "cell_type": "code",
   "execution_count": null,
   "metadata": {},
   "outputs": [],
   "source": []
  },
  {
   "cell_type": "code",
   "execution_count": null,
   "metadata": {},
   "outputs": [],
   "source": []
  },
  {
   "cell_type": "code",
   "execution_count": null,
   "metadata": {},
   "outputs": [],
   "source": []
  },
  {
   "cell_type": "code",
   "execution_count": null,
   "metadata": {},
   "outputs": [],
   "source": []
  },
  {
   "cell_type": "code",
   "execution_count": null,
   "metadata": {},
   "outputs": [],
   "source": []
  },
  {
   "cell_type": "code",
   "execution_count": null,
   "metadata": {},
   "outputs": [],
   "source": []
  },
  {
   "cell_type": "code",
   "execution_count": 17,
   "metadata": {
    "scrolled": false
   },
   "outputs": [
    {
     "data": {
      "text/plain": [
       "count    81954.000000\n",
       "mean        16.718391\n",
       "std         16.360972\n",
       "min          2.000000\n",
       "25%          5.000000\n",
       "50%         11.000000\n",
       "75%         24.000000\n",
       "max        171.000000\n",
       "Name: PPDB_syn_2, dtype: float64"
      ]
     },
     "execution_count": 17,
     "metadata": {},
     "output_type": "execute_result"
    }
   ],
   "source": [
    "df['PPDB_syn_2'].describe()"
   ]
  },
  {
   "cell_type": "code",
   "execution_count": 18,
   "metadata": {},
   "outputs": [
    {
     "data": {
      "text/plain": [
       "count    81954.000000\n",
       "mean        16.917503\n",
       "std         16.626103\n",
       "min          2.000000\n",
       "25%          5.000000\n",
       "50%         11.000000\n",
       "75%         24.000000\n",
       "max        176.000000\n",
       "Name: PPDB_syn_ant_2, dtype: float64"
      ]
     },
     "execution_count": 18,
     "metadata": {},
     "output_type": "execute_result"
    }
   ],
   "source": [
    "df['PPDB_syn_ant_2'].describe()"
   ]
  },
  {
   "cell_type": "code",
   "execution_count": 19,
   "metadata": {
    "scrolled": false
   },
   "outputs": [
    {
     "data": {
      "text/plain": [
       "count    81954.000000\n",
       "mean        30.231447\n",
       "std         40.484017\n",
       "min          2.000000\n",
       "25%          6.000000\n",
       "50%         15.000000\n",
       "75%         39.000000\n",
       "max        556.000000\n",
       "Name: PPDB_syn_ant_3, dtype: float64"
      ]
     },
     "execution_count": 19,
     "metadata": {},
     "output_type": "execute_result"
    }
   ],
   "source": [
    "df['PPDB_syn_ant_3'].describe()"
   ]
  },
  {
   "cell_type": "code",
   "execution_count": 20,
   "metadata": {},
   "outputs": [
    {
     "data": {
      "text/plain": [
       "count    21764.000000\n",
       "mean         5.883937\n",
       "std          5.207105\n",
       "min          2.000000\n",
       "25%          3.000000\n",
       "50%          4.000000\n",
       "75%          7.000000\n",
       "max         61.000000\n",
       "Name: wordnet_syn, dtype: float64"
      ]
     },
     "execution_count": 20,
     "metadata": {},
     "output_type": "execute_result"
    }
   ],
   "source": [
    "df1['wordnet_syn'].describe()"
   ]
  },
  {
   "cell_type": "code",
   "execution_count": 21,
   "metadata": {},
   "outputs": [
    {
     "data": {
      "text/plain": [
       "count    21764.000000\n",
       "mean         6.118452\n",
       "std          5.412305\n",
       "min          2.000000\n",
       "25%          3.000000\n",
       "50%          4.000000\n",
       "75%          8.000000\n",
       "max         64.000000\n",
       "Name: wordnet_syn_ant, dtype: float64"
      ]
     },
     "execution_count": 21,
     "metadata": {},
     "output_type": "execute_result"
    }
   ],
   "source": [
    "df1['wordnet_syn_ant'].describe()"
   ]
  },
  {
   "cell_type": "code",
   "execution_count": 22,
   "metadata": {},
   "outputs": [
    {
     "data": {
      "text/plain": [
       "count    2155.00000\n",
       "mean       25.60232\n",
       "std        28.73298\n",
       "min         2.00000\n",
       "25%         6.00000\n",
       "50%        14.00000\n",
       "75%        36.00000\n",
       "max       136.00000\n",
       "Name: framenet_syn, dtype: float64"
      ]
     },
     "execution_count": 22,
     "metadata": {},
     "output_type": "execute_result"
    }
   ],
   "source": [
    "df2['framenet_syn'].describe()"
   ]
  },
  {
   "cell_type": "code",
   "execution_count": 23,
   "metadata": {
    "scrolled": true
   },
   "outputs": [
    {
     "data": {
      "text/plain": [
       "count    81954.000000\n",
       "mean        63.258584\n",
       "std         84.866342\n",
       "min          2.000000\n",
       "25%          8.000000\n",
       "50%         32.000000\n",
       "75%         84.000000\n",
       "max        761.000000\n",
       "Name: lexicon_all_syn, dtype: float64"
      ]
     },
     "execution_count": 23,
     "metadata": {},
     "output_type": "execute_result"
    }
   ],
   "source": [
    "df3['lexicon_all_syn'].describe()"
   ]
  },
  {
   "cell_type": "code",
   "execution_count": 24,
   "metadata": {
    "scrolled": true
   },
   "outputs": [
    {
     "data": {
      "text/plain": [
       "count    81954.000000\n",
       "mean        66.679955\n",
       "std         89.775239\n",
       "min          2.000000\n",
       "25%          9.000000\n",
       "50%         33.000000\n",
       "75%         89.000000\n",
       "max        818.000000\n",
       "Name: lexicon_all_syn_ant, dtype: float64"
      ]
     },
     "execution_count": 24,
     "metadata": {},
     "output_type": "execute_result"
    }
   ],
   "source": [
    "df3['lexicon_all_syn_ant'].describe()"
   ]
  },
  {
   "cell_type": "code",
   "execution_count": 25,
   "metadata": {
    "scrolled": true
   },
   "outputs": [
    {
     "data": {
      "text/plain": [
       "count    81954.000000\n",
       "mean        79.814457\n",
       "std        105.933616\n",
       "min          2.000000\n",
       "25%         10.000000\n",
       "50%         39.000000\n",
       "75%        110.000000\n",
       "max        916.000000\n",
       "Name: lexicon_all_syn_ant_more, dtype: float64"
      ]
     },
     "execution_count": 25,
     "metadata": {},
     "output_type": "execute_result"
    }
   ],
   "source": [
    "df4['lexicon_all_syn_ant_more'].describe()"
   ]
  }
 ],
 "metadata": {
  "kernelspec": {
   "display_name": "Python 3",
   "language": "python",
   "name": "python3"
  },
  "language_info": {
   "codemirror_mode": {
    "name": "ipython",
    "version": 3
   },
   "file_extension": ".py",
   "mimetype": "text/x-python",
   "name": "python",
   "nbconvert_exporter": "python",
   "pygments_lexer": "ipython3",
   "version": "3.6.9"
  }
 },
 "nbformat": 4,
 "nbformat_minor": 2
}
